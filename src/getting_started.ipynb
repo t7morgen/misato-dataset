{
 "cells": [
  {
   "cell_type": "markdown",
   "metadata": {},
   "source": [
    "# MISATO-Dataset: a tutorial"
   ]
  },
  {
   "cell_type": "markdown",
   "metadata": {},
   "source": [
    "In this notebook, we will show how our QM and MD dataset are stored in h5 files. We also show how the data can be loaded so that it can be used by a deep learning model. "
   ]
  },
  {
   "cell_type": "markdown",
   "metadata": {},
   "source": [
    "We start by importing the useful packages and set up the paths of the files"
   ]
  },
  {
   "cell_type": "code",
   "execution_count": 1,
   "metadata": {},
   "outputs": [],
   "source": [
    "import sys\n",
    "import os\n",
    "sys.path.insert(0,os.path.join(os.path.abspath('').split('misato-dataset')[0],'misato-dataset/src/misato_dataset/components/'))\n",
    "\n",
    "import h5py\n",
    "import numpy as np \n",
    "import torch_geometric.transforms as T\n",
    "from torch_geometric.loader import DataLoader\n",
    "from misato_dataset.components.datasets import MolDataset, ProtDataset\n",
    "from misato_dataset.components.transformQM import GNNTransformQM\n",
    "from misato_dataset.components.transformMD import GNNTransformMD\n",
    "from misato_dataset.qm_datamodule import QMDataModule\n",
    "from misato_dataset.md_datamodule import MDDataModule\n",
    "from misato_dataset.processing import preprocessing_db"
   ]
  },
  {
   "cell_type": "code",
   "execution_count": 2,
   "metadata": {},
   "outputs": [],
   "source": [
    "qmh5_file = \"../data/QM/h5_files/tiny_qm.hdf5\"\n",
    "norm_file = \"../data/QM/h5_files/qm_norm.hdf5\"\n",
    "norm_txtfile = \"../data/QM/splits/train_norm.txt\""
   ]
  },
  {
   "cell_type": "markdown",
   "metadata": {},
   "source": [
    "## H5 files presentations"
   ]
  },
  {
   "cell_type": "markdown",
   "metadata": {},
   "source": [
    "We read the QM H5 file and H5 file used to normalize the target values."
   ]
  },
  {
   "cell_type": "code",
   "execution_count": 3,
   "metadata": {},
   "outputs": [],
   "source": [
    "qm_H5File = h5py.File(qmh5_file)\n",
    "qm_normFile = h5py.File(norm_file)"
   ]
  },
  {
   "cell_type": "markdown",
   "metadata": {},
   "source": [
    "The ligands can be accessed using the pdb-id. Bellow we show the first ten molecules of the file."
   ]
  },
  {
   "cell_type": "code",
   "execution_count": 4,
   "metadata": {},
   "outputs": [
    {
     "data": {
      "text/plain": [
       "<KeysViewHDF5 ['10GS', '11GS', '13GS', '16PK', '184L', '185L', '186L', '187L', '188L', '1A07', '1A08', '1A09', '1A0Q', '1A0TA', '1A0TB', '1A1B', '1A1C', '1A1E', '1A28', '1A2C']>"
      ]
     },
     "execution_count": 4,
     "metadata": {},
     "output_type": "execute_result"
    }
   ],
   "source": [
    "qm_H5File.keys()"
   ]
  },
  {
   "cell_type": "markdown",
   "metadata": {},
   "source": [
    "The following properties are available for each atom:"
   ]
  },
  {
   "cell_type": "code",
   "execution_count": 5,
   "metadata": {},
   "outputs": [
    {
     "data": {
      "text/plain": [
       "array([b'x', b'y', b'z', b'hybridisation', b'group', b'gfn2_charge',\n",
       "       b'gfn2_charge_(wet_octanol)', b'gfn2_charge_(water)',\n",
       "       b'AM1_charge', b'AM1_CM1_charge', b'AM1_CM2_charge',\n",
       "       b'AM1_CM3_charge', b'PM6_charge', b'gfn2_polarisation',\n",
       "       b'gfn2_polarisation_(wet_octanol)', b'gfn2_polarisation_(water)',\n",
       "       b'gfn2_charge_electrophilicity',\n",
       "       b'gfn2_charge_electrophilicity_softness',\n",
       "       b'gfn2_charge_nucleophilicity_softness',\n",
       "       b'gfn2_charge_nucleophilicity', b'gfn2_charge_radical',\n",
       "       b'gfn2_charge_radical_softness', b'gfn2_orbital_electrophilicity',\n",
       "       b'gfn2_orbital_electrophilicity_softness',\n",
       "       b'gfn2_orbital_nucleophilicity_softness',\n",
       "       b'gfn2_orbital_nucleophilicity', b'gfn2_orbital_radical',\n",
       "       b'gfn2_orbital_radical_softness'], dtype='|S38')"
      ]
     },
     "execution_count": 5,
     "metadata": {},
     "output_type": "execute_result"
    }
   ],
   "source": [
    "qm_H5File[\"10GS\"][\"atom_properties\"][\"atom_properties_names\"][()]"
   ]
  },
  {
   "cell_type": "markdown",
   "metadata": {},
   "source": [
    "You can access the values for each of the properties using the respective index. For example the coordinates are given in the first 3 entries:"
   ]
  },
  {
   "cell_type": "code",
   "execution_count": 6,
   "metadata": {},
   "outputs": [],
   "source": [
    "xyz = qm_H5File[\"10GS\"][\"atom_properties\"][\"atom_properties_values\"][:, 0:3]"
   ]
  },
  {
   "cell_type": "markdown",
   "metadata": {},
   "source": [
    "We also provide several molecular properties that can be accessed directly using the respective key."
   ]
  },
  {
   "cell_type": "code",
   "execution_count": 7,
   "metadata": {},
   "outputs": [
    {
     "data": {
      "text/plain": [
       "<KeysViewHDF5 ['Electron_Affinity', 'Electronegativity', 'Hardness', 'Ionization_Potential', 'Koopman', 'molecular_weight', 'total_charge']>"
      ]
     },
     "execution_count": 7,
     "metadata": {},
     "output_type": "execute_result"
    }
   ],
   "source": [
    "qm_H5File[\"10GS\"][\"mol_properties\"].keys()"
   ]
  },
  {
   "cell_type": "markdown",
   "metadata": {},
   "source": [
    "Target values can be accessed by specifiying into bracket the molecule name, then mol_properties and finally the name of the target value that we want to access: "
   ]
  },
  {
   "cell_type": "code",
   "execution_count": 8,
   "metadata": {},
   "outputs": [
    {
     "data": {
      "text/plain": [
       "6.0974"
      ]
     },
     "execution_count": 8,
     "metadata": {},
     "output_type": "execute_result"
    }
   ],
   "source": [
    "qm_H5File[\"10GS\"][\"mol_properties\"][\"Electron_Affinity\"][()]"
   ]
  },
  {
   "cell_type": "markdown",
   "metadata": {},
   "source": [
    "We can access to the mean and standard-deviation of each target value over all structures by specifiying it into bracket.\n",
    "We first specify the set, then the target value and finally either mean or std. "
   ]
  },
  {
   "cell_type": "code",
   "execution_count": 9,
   "metadata": {},
   "outputs": [
    {
     "data": {
      "text/plain": [
       "<KeysViewHDF5 ['Electron_Affinity', 'Electronegativity', 'Hardness', 'Ionization_Potential']>"
      ]
     },
     "execution_count": 9,
     "metadata": {},
     "output_type": "execute_result"
    }
   ],
   "source": [
    "qm_normFile.keys()"
   ]
  },
  {
   "cell_type": "code",
   "execution_count": 10,
   "metadata": {},
   "outputs": [
    {
     "name": "stdout",
     "output_type": "stream",
     "text": [
      "6.33265\n",
      "18.636927\n"
     ]
    }
   ],
   "source": [
    "print(qm_normFile[\"Electron_Affinity\"][\"mean\"][()])\n",
    "print(qm_normFile[\"Electron_Affinity\"][\"std\"][()])"
   ]
  },
  {
   "cell_type": "markdown",
   "metadata": {},
   "source": [
    "## Datasets and dataloaders"
   ]
  },
  {
   "cell_type": "markdown",
   "metadata": {},
   "source": [
    "### PyTorch"
   ]
  },
  {
   "cell_type": "markdown",
   "metadata": {},
   "source": [
    "The QM and MD datasets are warped into a PyTorch Dataset class under the name MolDataset and ProtDataset, respectively. \n",
    "The parameters taken by the two classes as well as their types can be found as follow."
   ]
  },
  {
   "cell_type": "code",
   "execution_count": 11,
   "metadata": {},
   "outputs": [
    {
     "name": "stdout",
     "output_type": "stream",
     "text": [
      "Help on class MolDataset in module misato_dataset.components.datasets:\n",
      "\n",
      "class MolDataset(torch.utils.data.dataset.Dataset)\n",
      " |  MolDataset(data_file, idx_file, target_norm_file, transform, isTrain=False, post_transform=None)\n",
      " |  \n",
      " |  Load the QM dataset.\n",
      " |  \n",
      " |  Method resolution order:\n",
      " |      MolDataset\n",
      " |      torch.utils.data.dataset.Dataset\n",
      " |      typing.Generic\n",
      " |      builtins.object\n",
      " |  \n",
      " |  Methods defined here:\n",
      " |  \n",
      " |  __getitem__(self, index: int)\n",
      " |  \n",
      " |  __init__(self, data_file, idx_file, target_norm_file, transform, isTrain=False, post_transform=None)\n",
      " |      Args:\n",
      " |          data_file (str): H5 file path\n",
      " |          idx_file (str): path of txt file which contains pdb ids for a specific split such as train, val or test.\n",
      " |          target_norm_file (str): H5 file path where training mean and std are stored.  \n",
      " |          transform (obj): class that convert a dict to a PyTorch Geometric graph.\n",
      " |          isTrain (bool, optional): Flag to standardize the target values (only used for train set). Defaults to False.\n",
      " |          post_transform (PyTorch Geometric, optional): data augmentation. Defaults to None.\n",
      " |  \n",
      " |  __len__(self) -> int\n",
      " |  \n",
      " |  ----------------------------------------------------------------------\n",
      " |  Data and other attributes defined here:\n",
      " |  \n",
      " |  __annotations__ = {}\n",
      " |  \n",
      " |  __parameters__ = ()\n",
      " |  \n",
      " |  ----------------------------------------------------------------------\n",
      " |  Methods inherited from torch.utils.data.dataset.Dataset:\n",
      " |  \n",
      " |  __add__(self, other: 'Dataset[T_co]') -> 'ConcatDataset[T_co]'\n",
      " |  \n",
      " |  ----------------------------------------------------------------------\n",
      " |  Data descriptors inherited from torch.utils.data.dataset.Dataset:\n",
      " |  \n",
      " |  __dict__\n",
      " |      dictionary for instance variables (if defined)\n",
      " |  \n",
      " |  __weakref__\n",
      " |      list of weak references to the object (if defined)\n",
      " |  \n",
      " |  ----------------------------------------------------------------------\n",
      " |  Data and other attributes inherited from torch.utils.data.dataset.Dataset:\n",
      " |  \n",
      " |  __orig_bases__ = (typing.Generic[+T_co],)\n",
      " |  \n",
      " |  ----------------------------------------------------------------------\n",
      " |  Class methods inherited from typing.Generic:\n",
      " |  \n",
      " |  __class_getitem__(params) from builtins.type\n",
      " |  \n",
      " |  __init_subclass__(*args, **kwargs) from builtins.type\n",
      " |      This method is called when a class is subclassed.\n",
      " |      \n",
      " |      The default implementation does nothing. It may be\n",
      " |      overridden to extend subclasses.\n",
      "\n"
     ]
    }
   ],
   "source": [
    "help(MolDataset)"
   ]
  },
  {
   "cell_type": "code",
   "execution_count": 12,
   "metadata": {},
   "outputs": [
    {
     "name": "stdout",
     "output_type": "stream",
     "text": [
      "Help on class ProtDataset in module misato_dataset.components.datasets:\n",
      "\n",
      "class ProtDataset(torch.utils.data.dataset.Dataset)\n",
      " |  ProtDataset(md_data_file, idx_file, transform=None, post_transform=None)\n",
      " |  \n",
      " |  Load the MD dataset\n",
      " |  \n",
      " |  Method resolution order:\n",
      " |      ProtDataset\n",
      " |      torch.utils.data.dataset.Dataset\n",
      " |      typing.Generic\n",
      " |      builtins.object\n",
      " |  \n",
      " |  Methods defined here:\n",
      " |  \n",
      " |  __getitem__(self, index: int)\n",
      " |  \n",
      " |  __init__(self, md_data_file, idx_file, transform=None, post_transform=None)\n",
      " |      Args:\n",
      " |          md_data_file (str): H5 file path\n",
      " |          idx_file (str): path of txt file which contains pdb ids for a specific split such as train, val or test.\n",
      " |          transform (obj): class that convert a dict to a PyTorch Geometric graph.\n",
      " |          post_transform (PyTorch Geometric, optional): data augmentation. Defaults to None.\n",
      " |  \n",
      " |  __len__(self) -> int\n",
      " |  \n",
      " |  ----------------------------------------------------------------------\n",
      " |  Data and other attributes defined here:\n",
      " |  \n",
      " |  __annotations__ = {}\n",
      " |  \n",
      " |  __parameters__ = ()\n",
      " |  \n",
      " |  ----------------------------------------------------------------------\n",
      " |  Methods inherited from torch.utils.data.dataset.Dataset:\n",
      " |  \n",
      " |  __add__(self, other: 'Dataset[T_co]') -> 'ConcatDataset[T_co]'\n",
      " |  \n",
      " |  ----------------------------------------------------------------------\n",
      " |  Data descriptors inherited from torch.utils.data.dataset.Dataset:\n",
      " |  \n",
      " |  __dict__\n",
      " |      dictionary for instance variables (if defined)\n",
      " |  \n",
      " |  __weakref__\n",
      " |      list of weak references to the object (if defined)\n",
      " |  \n",
      " |  ----------------------------------------------------------------------\n",
      " |  Data and other attributes inherited from torch.utils.data.dataset.Dataset:\n",
      " |  \n",
      " |  __orig_bases__ = (typing.Generic[+T_co],)\n",
      " |  \n",
      " |  ----------------------------------------------------------------------\n",
      " |  Class methods inherited from typing.Generic:\n",
      " |  \n",
      " |  __class_getitem__(params) from builtins.type\n",
      " |  \n",
      " |  __init_subclass__(*args, **kwargs) from builtins.type\n",
      " |      This method is called when a class is subclassed.\n",
      " |      \n",
      " |      The default implementation does nothing. It may be\n",
      " |      overridden to extend subclasses.\n",
      "\n"
     ]
    }
   ],
   "source": [
    "help(ProtDataset)"
   ]
  },
  {
   "cell_type": "markdown",
   "metadata": {},
   "source": [
    "We can load the data by instanciating MolDataset and providing the QM H5 file, the text file that indicates the molecule used for training and the norm file used to normalize the target values. \n",
    "\n",
    "The MolDataset class without any transform return a dictionary that contain the elements and their coordinates. We use GNNTransformQM class to transform our data to a graph that can be used by a GNN. The parameter post_transform is another transformation used to perform data augmentation."
   ]
  },
  {
   "cell_type": "code",
   "execution_count": 13,
   "metadata": {},
   "outputs": [],
   "source": [
    "train = \"../data/QM/splits/train_tinyQM.txt\"\n",
    "\n",
    "transform = T.RandomJitter(0.25)\n",
    "batch_size = 128\n",
    "num_workers = 48\n",
    "\n",
    "data_train = MolDataset(qmh5_file, train, target_norm_file=norm_file, transform=GNNTransformQM(), post_transform=transform)"
   ]
  },
  {
   "cell_type": "markdown",
   "metadata": {},
   "source": [
    "Finally, we can load our data using the PyTorch DataLoader."
   ]
  },
  {
   "cell_type": "code",
   "execution_count": 14,
   "metadata": {},
   "outputs": [
    {
     "name": "stdout",
     "output_type": "stream",
     "text": [
      "DataBatch(x=[397, 25], edge_index=[2, 6548], edge_attr=[6548, 1], y=[20], pos=[397, 3], id=[10], batch=[397], ptr=[11])\n"
     ]
    }
   ],
   "source": [
    "train_loader = DataLoader(data_train, batch_size, shuffle=True, num_workers=0)\n",
    "\n",
    "for idx, val in enumerate(train_loader):\n",
    "    print(val)\n",
    "    break"
   ]
  },
  {
   "cell_type": "markdown",
   "metadata": {},
   "source": [
    "### PyTorch lightning "
   ]
  },
  {
   "cell_type": "markdown",
   "metadata": {},
   "source": [
    "The QMDataModule is a class inherated from LightningDataModule that instanciate the MolDataset for training, validation and test set and returns a dataloader for each set. \n",
    "\n",
    "We start by instanciation of the QMDataModule"
   ]
  },
  {
   "cell_type": "code",
   "execution_count": 15,
   "metadata": {},
   "outputs": [],
   "source": [
    "files_root =  \"../data/QM\"\n",
    "\n",
    "qmh5file = \"h5_files/tiny_qm.hdf5\"\n",
    "\n",
    "tr = \"splits/train_tinyQM.txt\"\n",
    "v = \"splits/val_tinyQM.txt\"\n",
    "te = \"splits/test_tinyQM.txt\"\n",
    "\n",
    "qmdata = QMDataModule(files_root, h5file=qmh5file, train=tr, val=v, test=te, num_workers=0)"
   ]
  },
  {
   "cell_type": "markdown",
   "metadata": {},
   "source": [
    "Then, we call the setup function to instanciate the MolDataset for training, validation and test set"
   ]
  },
  {
   "cell_type": "code",
   "execution_count": 16,
   "metadata": {},
   "outputs": [],
   "source": [
    "qmdata.setup()"
   ]
  },
  {
   "cell_type": "markdown",
   "metadata": {},
   "source": [
    "Finally, we can return a dataloader for each set."
   ]
  },
  {
   "cell_type": "code",
   "execution_count": 17,
   "metadata": {},
   "outputs": [
    {
     "name": "stdout",
     "output_type": "stream",
     "text": [
      "DataBatch(x=[397, 25], edge_index=[2, 6548], edge_attr=[6548, 1], y=[20], pos=[397, 3], id=[10], batch=[397], ptr=[11])\n"
     ]
    }
   ],
   "source": [
    "train_loader = qmdata.train_dataloader()\n",
    "\n",
    "for idx, val in enumerate(train_loader):\n",
    "    print(val)\n",
    "    break\n",
    "    "
   ]
  },
  {
   "cell_type": "markdown",
   "metadata": {},
   "source": [
    "# MD dataset"
   ]
  },
  {
   "cell_type": "markdown",
   "metadata": {},
   "source": [
    "We generated a tiny h5 file that can be inspected right away. We do this for the structure with pdb-id 10GS."
   ]
  },
  {
   "cell_type": "code",
   "execution_count": 18,
   "metadata": {},
   "outputs": [],
   "source": [
    "mdh5_file_tiny = '../data/MD/h5_files/tiny_md.hdf5'\n",
    "md_H5File_tiny = h5py.File(mdh5_file_tiny)"
   ]
  },
  {
   "cell_type": "code",
   "execution_count": 19,
   "metadata": {},
   "outputs": [
    {
     "data": {
      "text/plain": [
       "<KeysViewHDF5 ['atoms_element', 'atoms_number', 'atoms_residue', 'atoms_type', 'frames_bSASA', 'frames_distance', 'frames_interaction_energy', 'frames_rmsd_ligand', 'molecules_begin_atom_index', 'trajectory_coordinates']>"
      ]
     },
     "execution_count": 19,
     "metadata": {},
     "output_type": "execute_result"
    }
   ],
   "source": [
    "md_H5File_tiny['10GS'].keys()"
   ]
  },
  {
   "cell_type": "markdown",
   "metadata": {},
   "source": [
    "The beginning of the name of each property indicates the respective shape:\n",
    "- atoms_ have a entry for each atom of the structure\n",
    "- frames_ have an entry for each of the 100 frames\n",
    "- molecules_ has an entry for each molecule, including the ligand\n",
    "- trajectory_coordinates_ has an entry of each atom and each frame"
   ]
  },
  {
   "cell_type": "code",
   "execution_count": 20,
   "metadata": {},
   "outputs": [
    {
     "data": {
      "text/plain": [
       "[('atoms_element', (6593,)),\n",
       " ('atoms_number', (6593,)),\n",
       " ('atoms_residue', (6593,)),\n",
       " ('atoms_type', (6593,)),\n",
       " ('frames_bSASA', (100,)),\n",
       " ('frames_distance', (100,)),\n",
       " ('frames_interaction_energy', (100,)),\n",
       " ('frames_rmsd_ligand', (100,)),\n",
       " ('molecules_begin_atom_index', (3,)),\n",
       " ('trajectory_coordinates', (100, 6593, 3))]"
      ]
     },
     "execution_count": 20,
     "metadata": {},
     "output_type": "execute_result"
    }
   ],
   "source": [
    "[(key, np.shape(md_H5File_tiny['10GS'][key])) for key in md_H5File_tiny['10GS'].keys()]"
   ]
  },
  {
   "cell_type": "markdown",
   "metadata": {},
   "source": [
    "To run models for the MD dataset you will most likely need to preprocess the h5 file based on your model. We provide a preprocessing script (see data/processing/preprocessing_db.py) that can filter out the atom types that you are not interested in (e.g. H-atoms) or calculate values of interest based on your models.\n",
    "Here, we will show how to use the script to calculate the adaptability values on the dataset and stripping the H-atoms.  \n",
    "In this notebook we define a new Args class, if you use the script in the terminal just provide these values as input parameters in the command line."
   ]
  },
  {
   "cell_type": "code",
   "execution_count": 21,
   "metadata": {},
   "outputs": [
    {
     "name": "stdout",
     "output_type": "stream",
     "text": [
      "Removing existing output file...\n",
      "10GS 1\n",
      "Stripping  atoms_element 1  and calculating adaptability for the atoms that were not stripped.\n",
      "11GS 2\n",
      "13GS 3\n",
      "16PK 4\n",
      "184L 5\n",
      "185L 6\n",
      "186L 7\n",
      "187L 8\n",
      "188L 9\n",
      "1A07 10\n",
      "1A08 11\n",
      "1A09 12\n",
      "1A0Q 13\n",
      "1A1B 14\n",
      "1A1C 15\n",
      "1A1E 16\n",
      "1A28 17\n",
      "1A2C 18\n",
      "1A30 19\n",
      "1A3E 20\n"
     ]
    }
   ],
   "source": [
    "class Args:\n",
    "    # input file\n",
    "    datasetIn = \"../data/MD/h5_files/tiny_md.hdf5\"\n",
    "    # Feature that should be stripped, e.g. atoms_element or atoms_type\n",
    "    strip_feature = \"atoms_element\"\n",
    "    # Value to strip, e.g. if strip_freature= atoms_element; 1 for H. \n",
    "    strip_value = 1\n",
    "    # Start index of structures\n",
    "    begin = 0\n",
    "    # End index of structures\n",
    "    end = 20 \n",
    "    # We calculate the adaptability for each atom. \n",
    "    # Default behaviour will also strip H atoms, if no stripping should be perfomed set strip_value to -1.\n",
    "    Adaptability = True\n",
    "    # If set to True this will create a new feature that combines one entry for each protein AA but all ligand entries; \n",
    "    # e.g. for only ca set strip_feature = atoms_type and strip_value = 14\n",
    "    Pres_Lat = False\n",
    "    # We strip the complex by given distance (in Angstrom) from COG of molecule, \n",
    "    # use e.g. 15.0. If default value is given (0.0) no pocket stripping will be applied.\n",
    "    Pocket = 0.0\n",
    "    # output file name and location\n",
    "    datasetOut = \"../data/MD/h5_files/tiny_md_out.hdf5\"\n",
    "\n",
    "\n",
    "args = Args()\n",
    "\n",
    "preprocessing_db.main(args)"
   ]
  },
  {
   "cell_type": "markdown",
   "metadata": {},
   "source": [
    "The same steps used for QM can be used to load the MD dataset. We start by loading the generated h5 file."
   ]
  },
  {
   "cell_type": "code",
   "execution_count": 22,
   "metadata": {},
   "outputs": [],
   "source": [
    "files_root =  \"\"\n",
    "\n",
    "mdh5_file = '../data/MD/h5_files/tiny_md_out.hdf5'\n",
    "\n",
    "train_idx = \"../data/MD/splits/train_tinyMD.txt\"\n",
    "val_idx = \"../data/MD/splits/val_tinyMD.txt\"\n",
    "test_idx = \"../data/MD/splits/test_tinyMD.txt\"\n",
    "\n",
    "md_H5File = h5py.File(mdh5_file)"
   ]
  },
  {
   "cell_type": "markdown",
   "metadata": {},
   "source": [
    "During preprocessing the H-atoms were stripped (see the change in atoms_ shape) and a new feature, the adaptability was calculated for each atom."
   ]
  },
  {
   "cell_type": "code",
   "execution_count": 23,
   "metadata": {},
   "outputs": [
    {
     "data": {
      "text/plain": [
       "[('atoms_coordinates_ref', (3295, 3)),\n",
       " ('atoms_element', (3295,)),\n",
       " ('atoms_number', (3295,)),\n",
       " ('atoms_residue', (3295,)),\n",
       " ('atoms_type', (3295,)),\n",
       " ('feature_atoms_adaptability', (3295,)),\n",
       " ('frames_bSASA', (100,)),\n",
       " ('frames_distance', (100,)),\n",
       " ('frames_interaction_energy', (100,)),\n",
       " ('frames_rmsd_ligand', (100,)),\n",
       " ('molecules_begin_atom_index', (3,)),\n",
       " ('trajectory_coordinates', (100, 3295, 3))]"
      ]
     },
     "execution_count": 23,
     "metadata": {},
     "output_type": "execute_result"
    }
   ],
   "source": [
    "[(key, np.shape(md_H5File['10GS'][key])) for key in md_H5File['10GS'].keys()]"
   ]
  },
  {
   "cell_type": "code",
   "execution_count": 24,
   "metadata": {},
   "outputs": [],
   "source": [
    "# Atom's coordinates from the first frame \n",
    "xyz = md_H5File['10GS']['trajectory_coordinates'][0, :, :] "
   ]
  },
  {
   "cell_type": "markdown",
   "metadata": {},
   "source": [
    "We can now initiate the dataloader."
   ]
  },
  {
   "cell_type": "code",
   "execution_count": 25,
   "metadata": {},
   "outputs": [],
   "source": [
    "train_dataset = ProtDataset(mdh5_file, idx_file=train_idx, transform=GNNTransformMD(), post_transform=T.RandomJitter(0.05))\n",
    "\n",
    "train_loader = DataLoader(train_dataset, batch_size=16, num_workers=16)"
   ]
  },
  {
   "cell_type": "code",
   "execution_count": 26,
   "metadata": {},
   "outputs": [
    {
     "name": "stdout",
     "output_type": "stream",
     "text": [
      "10GS\n",
      "1A28\n",
      "1A2C\n",
      "11GS\n",
      "1A30\n",
      "1A3E\n",
      "13GS\n",
      "16PK\n",
      "184L\n",
      "185L\n",
      "186L\n",
      "187L\n",
      "188L\n",
      "1A07\n",
      "1A08\n",
      "1A09\n",
      "1A0Q\n",
      "1A1B\n",
      "1A1C\n",
      "1A1E\n",
      "DataBatch(x=[31890, 11], edge_index=[2, 503876], edge_attr=[503876], y=[31890], pos=[31890, 3], ids=[16], batch=[31890], ptr=[17])\n"
     ]
    }
   ],
   "source": [
    "for idx, val in enumerate(train_loader):\n",
    "    print(val)\n",
    "    break"
   ]
  },
  {
   "cell_type": "code",
   "execution_count": 27,
   "metadata": {},
   "outputs": [],
   "source": [
    "mddata = MDDataModule(files_root, h5file=mdh5_file, train=train_idx, val=val_idx, test=test_idx, num_workers=0)"
   ]
  },
  {
   "cell_type": "code",
   "execution_count": 28,
   "metadata": {},
   "outputs": [],
   "source": [
    "mddata.setup()"
   ]
  },
  {
   "cell_type": "code",
   "execution_count": 29,
   "metadata": {},
   "outputs": [
    {
     "name": "stdout",
     "output_type": "stream",
     "text": [
      "13GS\n",
      "1A28\n",
      "187L\n",
      "188L\n",
      "11GS\n",
      "1A0Q\n",
      "1A07\n",
      "185L\n",
      "1A1E\n",
      "186L\n",
      "16PK\n",
      "1A30\n",
      "1A2C\n",
      "10GS\n",
      "1A3E\n",
      "1A1C\n",
      "DataBatch(x=[34514, 11], edge_index=[2, 544378], edge_attr=[544378], y=[34514], pos=[34514, 3], ids=[16], batch=[34514], ptr=[17])\n"
     ]
    }
   ],
   "source": [
    "train_loader = mddata.train_dataloader()\n",
    "\n",
    "for idx, val in enumerate(train_loader):\n",
    "    print(val)\n",
    "    break"
   ]
  },
  {
   "cell_type": "code",
   "execution_count": null,
   "metadata": {},
   "outputs": [],
   "source": []
  }
 ],
 "metadata": {
  "kernelspec": {
   "display_name": "Python 3 (ipykernel)",
   "language": "python",
   "name": "python3"
  },
  "language_info": {
   "codemirror_mode": {
    "name": "ipython",
    "version": 3
   },
   "file_extension": ".py",
   "mimetype": "text/x-python",
   "name": "python",
   "nbconvert_exporter": "python",
   "pygments_lexer": "ipython3",
   "version": "3.10.9"
  },
  "vscode": {
   "interpreter": {
    "hash": "ccb8a31603cded50fa2c46f04b1e1d1666ffae07322ba5b5b2be24a82f8ce498"
   }
  }
 },
 "nbformat": 4,
 "nbformat_minor": 4
}
